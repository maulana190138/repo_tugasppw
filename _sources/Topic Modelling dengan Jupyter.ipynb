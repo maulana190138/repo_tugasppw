{
 "cells": [
  {
   "cell_type": "markdown",
   "id": "b67eed29",
   "metadata": {},
   "source": [
    "# Topic Modeling menggunakan LDA dan LSA dengan Jupyter Notebook\n",
    "\n",
    "<p> <em>Latent Dirichlet Allocation</em> (LDA) adalah jenis pemodelan statistik untuk menemukan \"topik\" abstrak yang terjadi dalam kumpulan dokumen. Latent Dirichlet Allocation (LDA) adalah contoh model topik dan digunakan untuk mengklasifikasikan teks dalam dokumen ke topik tertentu. Itu membangun topik per model dokumen dan kata-kata per model topik, dimodelkan sebagai distribusi Dirichlet.</p>\n",
    "\n",
    "<p> <em>Latent Semantic Analysis</em> (LSA) adalah salah satu teknik dasar dalam pemodelan topik. Ide intinya adalah mengambil matriks dari apa yang kita miliki — dokumen dan istilah — dan menguraikannya menjadi matriks topik-dokumen yang terpisah dan matriks topik-istilah.</p>"
   ]
  },
  {
   "cell_type": "markdown",
   "id": "7dd2054f",
   "metadata": {},
   "source": [
    "<h3>Install Library</h3>\n",
    "\n",
    "<p>Dibawah ini dicantumkan beberapa library yang dibutuhkan untuk menlakukan processing menggunakan LSA dengan jupyter notebook, anda juga bisa melakukan instalasi ini dengan menggunakan CMD untuk pengguna Windows atau Terminal untuk pengguna Linux</p>"
   ]
  },
  {
   "cell_type": "markdown",
   "id": "1c5b2b37",
   "metadata": {},
   "source": [
    "Untuk PIP dibawah ini bisa diinstall manual menggunakan CMD/Terminal"
   ]
  },
  {
   "cell_type": "code",
   "execution_count": 55,
   "id": "ae87bb76",
   "metadata": {},
   "outputs": [],
   "source": [
    "# pip install numpy\n",
    "# pip install sklearn\n",
    "# pip install pandas\n",
    "# pip install matplotlib\n",
    "# pip install seaborn\n",
    "# pip install nltk"
   ]
  },
  {
   "cell_type": "markdown",
   "id": "73926678",
   "metadata": {},
   "source": [
    "<h3>Import Library</h3>\n",
    "\n",
    "<p>Untuk library yang digunakan diantaranya ada numpy, pandas, matplotlib, seaborn, nltk, dan sklearn yang umum digunakan pada data processing</p>"
   ]
  },
  {
   "cell_type": "code",
   "execution_count": 56,
   "id": "724deafe",
   "metadata": {},
   "outputs": [],
   "source": [
    "# data visualisation and manipulation\n",
    "import numpy as np\n",
    "import pandas as pd\n",
    "import matplotlib.pyplot as plt\n",
    "from matplotlib import style\n",
    "import seaborn as sns\n",
    "#configure\n",
    "# sets matplotlib to inline and displays graphs below the corressponding cell.\n",
    "%matplotlib inline  \n",
    "style.use('fivethirtyeight')\n",
    "sns.set(style='whitegrid',color_codes=True)\n",
    "\n",
    "#import nltk\n",
    "import nltk\n",
    "from nltk.corpus import stopwords\n",
    "from nltk.tokenize import word_tokenize,sent_tokenize\n",
    "\n",
    "#preprocessing\n",
    "from nltk.corpus import stopwords  #stopwords\n",
    "from nltk import word_tokenize,sent_tokenize # tokenizing\n",
    "from nltk.stem import PorterStemmer,LancasterStemmer  # using the Porter Stemmer and Lancaster Stemmer and others\n",
    "from nltk.stem.snowball import SnowballStemmer\n",
    "from nltk.stem import WordNetLemmatizer  # lammatizer from WordNet\n",
    "\n",
    "# for named entity recognition (NER)\n",
    "from nltk import ne_chunk\n",
    "\n",
    "# vectorizers for creating the document-term-matrix (DTM)\n",
    "from sklearn.feature_extraction.text import TfidfVectorizer,CountVectorizer\n",
    "\n",
    "\n",
    "#stop-words\n",
    "stop_words=set(nltk.corpus.stopwords.words('indonesian'))"
   ]
  },
  {
   "cell_type": "markdown",
   "id": "f4af06dc",
   "metadata": {},
   "source": [
    "<h3>Instalasi Library Tambahan</h3>\n",
    "<p>Dibawah ini ada library tambahan yang harus diinstall untuk memroses kata-kata</p>"
   ]
  },
  {
   "cell_type": "code",
   "execution_count": 57,
   "id": "da37ce2f",
   "metadata": {},
   "outputs": [],
   "source": [
    "# nltk.download('corpus')\n",
    "# nltk.download('stopwords')\n",
    "# nltk.download('punkt')"
   ]
  },
  {
   "cell_type": "markdown",
   "id": "282249e5",
   "metadata": {},
   "source": [
    "<h3>Import dokumen</h3>"
   ]
  },
  {
   "cell_type": "markdown",
   "id": "a558e6c1",
   "metadata": {},
   "source": [
    "<p>Import dokumen yang sudah dicrawling dengan crawler, bisa menggunakan referensi dari web ini atau bisa menggunakan referensi kode dari website lain</p>"
   ]
  },
  {
   "cell_type": "code",
   "execution_count": 58,
   "id": "77d3fa0b",
   "metadata": {},
   "outputs": [],
   "source": [
    "df=pd.read_csv(r'detail_abstrak.csv')"
   ]
  },
  {
   "cell_type": "markdown",
   "id": "466f2ff4",
   "metadata": {},
   "source": [
    "<h3>Display 10 data teratas pada dokumen</h3>"
   ]
  },
  {
   "cell_type": "code",
   "execution_count": 59,
   "id": "2b485343",
   "metadata": {},
   "outputs": [
    {
     "data": {
      "text/html": [
       "<div>\n",
       "<style scoped>\n",
       "    .dataframe tbody tr th:only-of-type {\n",
       "        vertical-align: middle;\n",
       "    }\n",
       "\n",
       "    .dataframe tbody tr th {\n",
       "        vertical-align: top;\n",
       "    }\n",
       "\n",
       "    .dataframe thead th {\n",
       "        text-align: right;\n",
       "    }\n",
       "</style>\n",
       "<table border=\"1\" class=\"dataframe\">\n",
       "  <thead>\n",
       "    <tr style=\"text-align: right;\">\n",
       "      <th></th>\n",
       "      <th>judul</th>\n",
       "      <th>Abstraksi</th>\n",
       "    </tr>\n",
       "  </thead>\n",
       "  <tbody>\n",
       "    <tr>\n",
       "      <th>0</th>\n",
       "      <td>PENGARUH STRUKTUR MODAL DAN LIKUIDITAS TERHADA...</td>\n",
       "      <td>Pendekatan penelitian yang digunakan dalam pen...</td>\n",
       "    </tr>\n",
       "    <tr>\n",
       "      <th>1</th>\n",
       "      <td>Pengaruh Kompensasi Terhadap Kinerja Karywan p...</td>\n",
       "      <td>ABSTRAK \\r\\n\\r\\n\\tTujuan penelitian ini adalah...</td>\n",
       "    </tr>\n",
       "    <tr>\n",
       "      <th>2</th>\n",
       "      <td>PENGARUH FAKTOR-FAKTOR PELATIHAN DAN PENGEMBAN...</td>\n",
       "      <td>ABSTRAK\\r\\...</td>\n",
       "    </tr>\n",
       "    <tr>\n",
       "      <th>3</th>\n",
       "      <td>Pengaruh Bauran Pemasaran Terhadap Keputusan P...</td>\n",
       "      <td>Objek penelitian ini adalah pembelian produk X...</td>\n",
       "    </tr>\n",
       "    <tr>\n",
       "      <th>4</th>\n",
       "      <td>ANALISIS PORTOFOLIO YANG OPTIMAL DI BEI DENGAN...</td>\n",
       "      <td>Suatu keputusan investasi selalu berhubungan d...</td>\n",
       "    </tr>\n",
       "    <tr>\n",
       "      <th>5</th>\n",
       "      <td>analisis faktor-faktor yang berpengaruh terhad...</td>\n",
       "      <td>ABSTRAK\\r\\nTujuan penelitian ini adalah untuk ...</td>\n",
       "    </tr>\n",
       "    <tr>\n",
       "      <th>6</th>\n",
       "      <td>PENGARUH KUALITAS PELAYANAN TERHADAP KEPUASAN ...</td>\n",
       "      <td>ABSTRAK\\r\\n\\r\\nTujuan penelitian ini adalah un...</td>\n",
       "    </tr>\n",
       "    <tr>\n",
       "      <th>7</th>\n",
       "      <td>Analisis Inovasi Dan Keunggulan Bersaing \\r\\nD...</td>\n",
       "      <td>ABSTRAK\\r\\n\\tTujuan penelitian ini adalah mend...</td>\n",
       "    </tr>\n",
       "    <tr>\n",
       "      <th>8</th>\n",
       "      <td>PENGARUH HARGA DAN KUALITAS PRODUK TERHADAP KE...</td>\n",
       "      <td>ABSTRAK \\r\\nTujuan penelitian ini adalah (1) U...</td>\n",
       "    </tr>\n",
       "    <tr>\n",
       "      <th>9</th>\n",
       "      <td>PENGARUH PERSEPSI NILAI TERHADAP KEPUASAN PELA...</td>\n",
       "      <td>Tujuan penelitian ini adalah untuk mengetahui ...</td>\n",
       "    </tr>\n",
       "  </tbody>\n",
       "</table>\n",
       "</div>"
      ],
      "text/plain": [
       "                                               judul  \\\n",
       "0  PENGARUH STRUKTUR MODAL DAN LIKUIDITAS TERHADA...   \n",
       "1  Pengaruh Kompensasi Terhadap Kinerja Karywan p...   \n",
       "2  PENGARUH FAKTOR-FAKTOR PELATIHAN DAN PENGEMBAN...   \n",
       "3  Pengaruh Bauran Pemasaran Terhadap Keputusan P...   \n",
       "4  ANALISIS PORTOFOLIO YANG OPTIMAL DI BEI DENGAN...   \n",
       "5  analisis faktor-faktor yang berpengaruh terhad...   \n",
       "6  PENGARUH KUALITAS PELAYANAN TERHADAP KEPUASAN ...   \n",
       "7  Analisis Inovasi Dan Keunggulan Bersaing \\r\\nD...   \n",
       "8  PENGARUH HARGA DAN KUALITAS PRODUK TERHADAP KE...   \n",
       "9  PENGARUH PERSEPSI NILAI TERHADAP KEPUASAN PELA...   \n",
       "\n",
       "                                           Abstraksi  \n",
       "0  Pendekatan penelitian yang digunakan dalam pen...  \n",
       "1  ABSTRAK \\r\\n\\r\\n\\tTujuan penelitian ini adalah...  \n",
       "2                                      ABSTRAK\\r\\...  \n",
       "3  Objek penelitian ini adalah pembelian produk X...  \n",
       "4  Suatu keputusan investasi selalu berhubungan d...  \n",
       "5  ABSTRAK\\r\\nTujuan penelitian ini adalah untuk ...  \n",
       "6  ABSTRAK\\r\\n\\r\\nTujuan penelitian ini adalah un...  \n",
       "7  ABSTRAK\\r\\n\\tTujuan penelitian ini adalah mend...  \n",
       "8  ABSTRAK \\r\\nTujuan penelitian ini adalah (1) U...  \n",
       "9  Tujuan penelitian ini adalah untuk mengetahui ...  "
      ]
     },
     "execution_count": 59,
     "metadata": {},
     "output_type": "execute_result"
    }
   ],
   "source": [
    "df.head(10)"
   ]
  },
  {
   "cell_type": "code",
   "execution_count": 60,
   "id": "fa3dae91",
   "metadata": {},
   "outputs": [],
   "source": [
    "def clean_text(headline):\n",
    "    le=WordNetLemmatizer()\n",
    "    word_tokens=word_tokenize(headline)\n",
    "    tokens=[le.lemmatize(w) for w in word_tokens if w not in stop_words and len(w)>3]\n",
    "    cleaned_text=\" \".join(tokens)\n",
    "    return cleaned_text"
   ]
  },
  {
   "cell_type": "markdown",
   "id": "62e093d8",
   "metadata": {},
   "source": [
    "<h3>Pembersihan dokumen</h3>\n",
    "\n",
    "<p>pembersihan dokumen diperlukan agar supaya dalam proses TF/IDF tidak ada simbol-simbol yang masuk dalam proses tersebut yang mengakibatkan dokumen menjadi kurang otentik</p>"
   ]
  },
  {
   "cell_type": "code",
   "execution_count": 61,
   "id": "12deb4f7",
   "metadata": {},
   "outputs": [],
   "source": [
    "# time taking\n",
    "df['abstrak_cleaned']=df['Abstraksi'].apply(clean_text)"
   ]
  },
  {
   "cell_type": "markdown",
   "id": "55b6d09f",
   "metadata": {},
   "source": [
    "<h3>Perbandingan data yang belum dan sudah dibershkan</3>"
   ]
  },
  {
   "cell_type": "code",
   "execution_count": 62,
   "id": "b15dd74c",
   "metadata": {},
   "outputs": [
    {
     "data": {
      "text/html": [
       "<div>\n",
       "<style scoped>\n",
       "    .dataframe tbody tr th:only-of-type {\n",
       "        vertical-align: middle;\n",
       "    }\n",
       "\n",
       "    .dataframe tbody tr th {\n",
       "        vertical-align: top;\n",
       "    }\n",
       "\n",
       "    .dataframe thead th {\n",
       "        text-align: right;\n",
       "    }\n",
       "</style>\n",
       "<table border=\"1\" class=\"dataframe\">\n",
       "  <thead>\n",
       "    <tr style=\"text-align: right;\">\n",
       "      <th></th>\n",
       "      <th>judul</th>\n",
       "      <th>Abstraksi</th>\n",
       "      <th>abstrak_cleaned</th>\n",
       "    </tr>\n",
       "  </thead>\n",
       "  <tbody>\n",
       "    <tr>\n",
       "      <th>0</th>\n",
       "      <td>PENGARUH STRUKTUR MODAL DAN LIKUIDITAS TERHADA...</td>\n",
       "      <td>Pendekatan penelitian yang digunakan dalam pen...</td>\n",
       "      <td>Pendekatan penelitian penelitian pendekatan ku...</td>\n",
       "    </tr>\n",
       "    <tr>\n",
       "      <th>1</th>\n",
       "      <td>Pengaruh Kompensasi Terhadap Kinerja Karywan p...</td>\n",
       "      <td>ABSTRAK \\r\\n\\r\\n\\tTujuan penelitian ini adalah...</td>\n",
       "      <td>ABSTRAK Tujuan penelitian variabel kompensasi ...</td>\n",
       "    </tr>\n",
       "    <tr>\n",
       "      <th>2</th>\n",
       "      <td>PENGARUH FAKTOR-FAKTOR PELATIHAN DAN PENGEMBAN...</td>\n",
       "      <td>ABSTRAK\\r\\...</td>\n",
       "      <td>ABSTRAK Satiyah Pengaruh Faktor-faktor Pelatih...</td>\n",
       "    </tr>\n",
       "    <tr>\n",
       "      <th>3</th>\n",
       "      <td>Pengaruh Bauran Pemasaran Terhadap Keputusan P...</td>\n",
       "      <td>Objek penelitian ini adalah pembelian produk X...</td>\n",
       "      <td>Objek penelitian pembelian produk Kecamatan Ba...</td>\n",
       "    </tr>\n",
       "    <tr>\n",
       "      <th>4</th>\n",
       "      <td>ANALISIS PORTOFOLIO YANG OPTIMAL DI BEI DENGAN...</td>\n",
       "      <td>Suatu keputusan investasi selalu berhubungan d...</td>\n",
       "      <td>Suatu keputusan investasi berhubungan keuntung...</td>\n",
       "    </tr>\n",
       "  </tbody>\n",
       "</table>\n",
       "</div>"
      ],
      "text/plain": [
       "                                               judul  \\\n",
       "0  PENGARUH STRUKTUR MODAL DAN LIKUIDITAS TERHADA...   \n",
       "1  Pengaruh Kompensasi Terhadap Kinerja Karywan p...   \n",
       "2  PENGARUH FAKTOR-FAKTOR PELATIHAN DAN PENGEMBAN...   \n",
       "3  Pengaruh Bauran Pemasaran Terhadap Keputusan P...   \n",
       "4  ANALISIS PORTOFOLIO YANG OPTIMAL DI BEI DENGAN...   \n",
       "\n",
       "                                           Abstraksi  \\\n",
       "0  Pendekatan penelitian yang digunakan dalam pen...   \n",
       "1  ABSTRAK \\r\\n\\r\\n\\tTujuan penelitian ini adalah...   \n",
       "2                                      ABSTRAK\\r\\...   \n",
       "3  Objek penelitian ini adalah pembelian produk X...   \n",
       "4  Suatu keputusan investasi selalu berhubungan d...   \n",
       "\n",
       "                                     abstrak_cleaned  \n",
       "0  Pendekatan penelitian penelitian pendekatan ku...  \n",
       "1  ABSTRAK Tujuan penelitian variabel kompensasi ...  \n",
       "2  ABSTRAK Satiyah Pengaruh Faktor-faktor Pelatih...  \n",
       "3  Objek penelitian pembelian produk Kecamatan Ba...  \n",
       "4  Suatu keputusan investasi berhubungan keuntung...  "
      ]
     },
     "execution_count": 62,
     "metadata": {},
     "output_type": "execute_result"
    }
   ],
   "source": [
    "df.head()"
   ]
  },
  {
   "cell_type": "markdown",
   "id": "801930c7",
   "metadata": {},
   "source": [
    "<p>Dorp kolom Abstrak</p>"
   ]
  },
  {
   "cell_type": "code",
   "execution_count": 63,
   "id": "9097d454",
   "metadata": {},
   "outputs": [],
   "source": [
    "df.drop(['Abstraksi'],axis=1,inplace=True)"
   ]
  },
  {
   "cell_type": "code",
   "execution_count": 64,
   "id": "f24c66c4",
   "metadata": {},
   "outputs": [
    {
     "data": {
      "text/html": [
       "<div>\n",
       "<style scoped>\n",
       "    .dataframe tbody tr th:only-of-type {\n",
       "        vertical-align: middle;\n",
       "    }\n",
       "\n",
       "    .dataframe tbody tr th {\n",
       "        vertical-align: top;\n",
       "    }\n",
       "\n",
       "    .dataframe thead th {\n",
       "        text-align: right;\n",
       "    }\n",
       "</style>\n",
       "<table border=\"1\" class=\"dataframe\">\n",
       "  <thead>\n",
       "    <tr style=\"text-align: right;\">\n",
       "      <th></th>\n",
       "      <th>judul</th>\n",
       "      <th>abstrak_cleaned</th>\n",
       "    </tr>\n",
       "  </thead>\n",
       "  <tbody>\n",
       "    <tr>\n",
       "      <th>0</th>\n",
       "      <td>PENGARUH STRUKTUR MODAL DAN LIKUIDITAS TERHADA...</td>\n",
       "      <td>Pendekatan penelitian penelitian pendekatan ku...</td>\n",
       "    </tr>\n",
       "    <tr>\n",
       "      <th>1</th>\n",
       "      <td>Pengaruh Kompensasi Terhadap Kinerja Karywan p...</td>\n",
       "      <td>ABSTRAK Tujuan penelitian variabel kompensasi ...</td>\n",
       "    </tr>\n",
       "    <tr>\n",
       "      <th>2</th>\n",
       "      <td>PENGARUH FAKTOR-FAKTOR PELATIHAN DAN PENGEMBAN...</td>\n",
       "      <td>ABSTRAK Satiyah Pengaruh Faktor-faktor Pelatih...</td>\n",
       "    </tr>\n",
       "    <tr>\n",
       "      <th>3</th>\n",
       "      <td>Pengaruh Bauran Pemasaran Terhadap Keputusan P...</td>\n",
       "      <td>Objek penelitian pembelian produk Kecamatan Ba...</td>\n",
       "    </tr>\n",
       "    <tr>\n",
       "      <th>4</th>\n",
       "      <td>ANALISIS PORTOFOLIO YANG OPTIMAL DI BEI DENGAN...</td>\n",
       "      <td>Suatu keputusan investasi berhubungan keuntung...</td>\n",
       "    </tr>\n",
       "  </tbody>\n",
       "</table>\n",
       "</div>"
      ],
      "text/plain": [
       "                                               judul  \\\n",
       "0  PENGARUH STRUKTUR MODAL DAN LIKUIDITAS TERHADA...   \n",
       "1  Pengaruh Kompensasi Terhadap Kinerja Karywan p...   \n",
       "2  PENGARUH FAKTOR-FAKTOR PELATIHAN DAN PENGEMBAN...   \n",
       "3  Pengaruh Bauran Pemasaran Terhadap Keputusan P...   \n",
       "4  ANALISIS PORTOFOLIO YANG OPTIMAL DI BEI DENGAN...   \n",
       "\n",
       "                                     abstrak_cleaned  \n",
       "0  Pendekatan penelitian penelitian pendekatan ku...  \n",
       "1  ABSTRAK Tujuan penelitian variabel kompensasi ...  \n",
       "2  ABSTRAK Satiyah Pengaruh Faktor-faktor Pelatih...  \n",
       "3  Objek penelitian pembelian produk Kecamatan Ba...  \n",
       "4  Suatu keputusan investasi berhubungan keuntung...  "
      ]
     },
     "execution_count": 64,
     "metadata": {},
     "output_type": "execute_result"
    }
   ],
   "source": [
    "df.head()"
   ]
  },
  {
   "cell_type": "markdown",
   "id": "e53ae645",
   "metadata": {},
   "source": [
    "<p>Data frame kolom abstrak_cleaned</p>"
   ]
  },
  {
   "cell_type": "code",
   "execution_count": 65,
   "id": "2ffa6080",
   "metadata": {},
   "outputs": [
    {
     "data": {
      "text/plain": [
       "'Pendekatan penelitian penelitian pendekatan kuantitatif Populasi penelitian perusahaan liquid terdaftar Bursa Efek Indonesia teknik penarikan sampel metode Purpossive Sampling dianalisis regresi linier berganda bantuan alat analisis Statistical Program Service Solution SPSS versi Hipotesis penelitian duga pengaruh parsial simultan variabel Rasio Likuiditas Current Ratio Struktur Modal Debt Equity Ratio Profitabilitas perusahaan liquid terdaftar Bursa Efek Indonesia Hasil penelitian variabel current ratio parsial memiliki pengaruh signifikan Profitabilitas variabel debt equity ratio parsial memiliki pengaruh signifikan Profitabilitas Berdasarkan hasil simultan didapatkan hasil Current Ratio Debt Equity Ratio memiliki pengaruh signifikan Profitabilitas perusahaan-perusahaan Kata kunci Likuiditas Current Ratio Struktur Modal Debt Equity Ratio Profitabilitas'"
      ]
     },
     "execution_count": 65,
     "metadata": {},
     "output_type": "execute_result"
    }
   ],
   "source": [
    "df['abstrak_cleaned'][0]"
   ]
  },
  {
   "cell_type": "code",
   "execution_count": 66,
   "id": "5163d195",
   "metadata": {},
   "outputs": [],
   "source": [
    "vect =TfidfVectorizer(stop_words=stop_words,max_features=1000) # to play with. min_df,max_df,max_features etc..."
   ]
  },
  {
   "cell_type": "code",
   "execution_count": 67,
   "id": "4886e1b7",
   "metadata": {},
   "outputs": [
    {
     "name": "stderr",
     "output_type": "stream",
     "text": [
      "c:\\Users\\ASUS\\AppData\\Local\\Programs\\Python\\Python310\\lib\\site-packages\\sklearn\\feature_extraction\\text.py:404: UserWarning: Your stop_words may be inconsistent with your preprocessing. Tokenizing the stop words generated tokens ['baiknya', 'berkali', 'kali', 'kurangnya', 'mata', 'olah', 'sekurang', 'setidak', 'tama', 'tidaknya'] not in stop_words.\n",
      "  warnings.warn(\n"
     ]
    }
   ],
   "source": [
    "vect_text=vect.fit_transform(df['abstrak_cleaned'])"
   ]
  },
  {
   "cell_type": "code",
   "execution_count": 68,
   "id": "ed3e0ddc",
   "metadata": {},
   "outputs": [
    {
     "name": "stdout",
     "output_type": "stream",
     "text": [
      "(23, 646)\n",
      "  (0, 318)\t0.028795974456481025\n",
      "  (0, 142)\t0.08487647230473741\n",
      "  (0, 90)\t0.043356564089626154\n",
      "  (0, 551)\t0.11244886047045657\n",
      "  (0, 360)\t0.174357824418222\n",
      "  (0, 213)\t0.07942395619659488\n",
      "  (0, 495)\t0.3399728014032144\n",
      "  (0, 186)\t0.25023919401868033\n",
      "  (0, 128)\t0.30000474732067406\n",
      "  (0, 389)\t0.15000237366033703\n",
      "  (0, 580)\t0.16975294460947482\n",
      "  (0, 513)\t0.5004783880373607\n",
      "  (0, 120)\t0.30000474732067406\n",
      "  (0, 329)\t0.15000237366033703\n",
      "  (0, 511)\t0.06799456028064288\n",
      "  (0, 633)\t0.0901357372864401\n",
      "  (0, 555)\t0.06272415461482114\n",
      "  (0, 419)\t0.10740780301801998\n",
      "  (0, 442)\t0.1201809830485868\n",
      "  (0, 175)\t0.08487647230473741\n",
      "  (0, 219)\t0.039287886556708874\n",
      "  (0, 637)\t0.06799456028064288\n",
      "  (0, 570)\t0.05436486551424672\n",
      "  (0, 565)\t0.08487647230473741\n",
      "  (0, 544)\t0.07500118683016851\n",
      "  :\t:\n",
      "  (22, 571)\t0.021867982447165583\n",
      "  (22, 60)\t0.02486569028710794\n",
      "  (22, 440)\t0.0290907221879145\n",
      "  (22, 402)\t0.01764295054635902\n",
      "  (22, 95)\t0.0560540854683161\n",
      "  (22, 318)\t0.012320039861810123\n",
      "  (22, 90)\t0.018549627437077373\n",
      "  (22, 213)\t0.022653775392656908\n",
      "  (22, 633)\t0.025709053604485232\n",
      "  (22, 555)\t0.026835837291104912\n",
      "  (22, 419)\t0.06127099080700992\n",
      "  (22, 442)\t0.012854526802242616\n",
      "  (22, 68)\t0.011811636065924315\n",
      "  (22, 64)\t0.02676551934330796\n",
      "  (22, 91)\t0.014013521367079024\n",
      "  (22, 332)\t0.016808888658948945\n",
      "  (22, 517)\t0.029290485412833328\n",
      "  (22, 385)\t0.03063549540350496\n",
      "  (22, 534)\t0.012854526802242616\n",
      "  (22, 596)\t0.014645242706416664\n",
      "  (22, 232)\t0.03908555920511808\n",
      "  (22, 179)\t0.04373596489433117\n",
      "  (22, 105)\t0.10933991223582794\n",
      "  (22, 315)\t0.018549627437077373\n",
      "  (22, 438)\t0.05210105402805051\n"
     ]
    }
   ],
   "source": [
    "print(vect_text.shape)\n",
    "print(vect_text)"
   ]
  },
  {
   "cell_type": "markdown",
   "id": "cf7dd6d3",
   "metadata": {},
   "source": [
    "<h2>Term Frequency</h2>\n",
    "\n",
    "<p>Data di atas adalah data yang sudah diproses menggunakan TF-IDF untuk menentukan Term Frequency tiap topik. TF-IDF (Term Frequency - Inverse Document Frequency) adalah algoritma praktis yang menggunakan frekuensi kata untuk menentukan seberapa relevan kata-kata itu dengan dokumen tertentu. Ini adalah pendekatan yang relatif sederhana namun intuitif untuk pembobotan kata, memungkinkannya bertindak sebagai titik awal yang bagus untuk berbagai tugas.</p>\n",
    "<h3>Rumus TF-IDF</h3>\n",
    "\n",
    "$$\n",
    "\\operatorname{tf}(t, d)=\\frac{f_{t, d}}{\\sum_{t^{\\prime} \\in d} f_{t^{\\prime}, d}}\n",
    "$$\n",
    "\n",
    "<p></p>"
   ]
  },
  {
   "cell_type": "code",
   "execution_count": 69,
   "id": "eabcf312",
   "metadata": {},
   "outputs": [
    {
     "name": "stdout",
     "output_type": "stream",
     "text": [
      "penelitian zulkifli\n",
      "1.233614851181505\n",
      "1.8754687373538999\n"
     ]
    },
    {
     "name": "stderr",
     "output_type": "stream",
     "text": [
      "c:\\Users\\ASUS\\AppData\\Local\\Programs\\Python\\Python310\\lib\\site-packages\\sklearn\\utils\\deprecation.py:87: FutureWarning: Function get_feature_names is deprecated; get_feature_names is deprecated in 1.0 and will be removed in 1.2. Please use get_feature_names_out instead.\n",
      "  warnings.warn(msg, category=FutureWarning)\n"
     ]
    }
   ],
   "source": [
    "idf=vect.idf_\n",
    "dd=dict(zip(vect.get_feature_names(), idf))\n",
    "l=sorted(dd, key=(dd).get)\n",
    "# print(l)\n",
    "print(l[0],l[-1])\n",
    "print(dd['variabel'])\n",
    "print(dd['indonesia'])  # police is most common and forecast is least common among the news headlines."
   ]
  },
  {
   "cell_type": "markdown",
   "id": "ad9c39f1",
   "metadata": {},
   "source": [
    "<h2>Proses LSA</h2>\n",
    "\n",
    "<p>LSA  adalah metode yang memungkinkan kita mengekstrak topik dari dokumen dengan mengubah teksnya menjadi matriks topik-kata dan topik-dokumen. Prosedur untuk LSA relatif mudah: Ubah korpus teks menjadi matriks istilah dokumen. Menerapkan dekomposisi nilai singular terpotong.</p>\n",
    "\n",
    "$$\n",
    "A_{m n}=U_{m m} x S_{m n} x V_{n n}^{T}\n",
    "$$\n",
    "\n",
    "<p>Matriks U = baris merepresentasikan vektor pada topic dokumen</p>\n",
    "<p>Matriks V = Garis ini merepresentasikan vektor istilah yang dinyatakan pada topik</p>\n",
    "<p>Matriks S = Matriks diagonal yang memiliki elemen-elemen diagonal yang digunakan sebagai nilai singular A</p>\n",
    "\n",
    "<p>tiap baris pada matriks U merupakan representasi vektor yang terdapat pada dokumen yang sesuai, untuk melakukannya dapat menggunakan library SKLearn yang bernama TruncatedSVD untuk menimplementasikan LSA</p>"
   ]
  },
  {
   "cell_type": "code",
   "execution_count": 70,
   "id": "fb3b78a4",
   "metadata": {},
   "outputs": [
    {
     "name": "stdout",
     "output_type": "stream",
     "text": [
      "           0         1         2         3         4         5         6  \\\n",
      "0   0.359833  0.551242 -0.117306  0.133227 -0.360162 -0.185330 -0.056590   \n",
      "1   0.188952  0.087504  0.368328  0.427715  0.199666  0.049685 -0.220334   \n",
      "2   0.166742  0.035663  0.220477  0.047753 -0.061566  0.295616  0.119783   \n",
      "3   0.576957 -0.318864 -0.166088  0.019159  0.116935 -0.211178 -0.005790   \n",
      "4   0.145632  0.265478 -0.092073 -0.352559  0.527928  0.197351 -0.118131   \n",
      "5   0.362253  0.522561 -0.188448  0.030325 -0.306241 -0.111204 -0.258278   \n",
      "6   0.333696 -0.041213  0.136977 -0.045316 -0.289514  0.435062  0.022712   \n",
      "7   0.136152  0.031179  0.083154  0.337268  0.244026 -0.064695  0.134623   \n",
      "8   0.703352 -0.284569 -0.141750 -0.043605 -0.021127  0.046571 -0.003042   \n",
      "9   0.460783 -0.142049  0.156358 -0.104932 -0.164624  0.253450  0.093820   \n",
      "10  0.527189 -0.364227 -0.240524  0.089751  0.057044 -0.165454 -0.027523   \n",
      "11  0.578689 -0.357035 -0.238602  0.076750  0.044827 -0.117247 -0.013098   \n",
      "12  0.262811 -0.010496  0.590746 -0.347966 -0.055433 -0.254309 -0.114622   \n",
      "13  0.203785 -0.033142  0.113736 -0.067718 -0.263319  0.501852  0.177412   \n",
      "14  0.370926  0.501211 -0.205167 -0.178425  0.170679  0.095253 -0.105765   \n",
      "15  0.109772  0.007398 -0.004650 -0.022771  0.105523  0.076435  0.504530   \n",
      "16  0.213081  0.072749  0.173802  0.245099  0.139422  0.058191 -0.069660   \n",
      "17  0.162664  0.390013 -0.035092  0.186150  0.007077 -0.198330  0.414168   \n",
      "18  0.225991  0.123896  0.373929  0.499448  0.248337  0.110973 -0.080371   \n",
      "19  0.262596 -0.021173  0.555149 -0.370258 -0.044672 -0.354390 -0.073274   \n",
      "20  0.138397  0.198109  0.115364 -0.119267  0.111876 -0.224431  0.601725   \n",
      "21  0.238866  0.325510 -0.077995 -0.047817 -0.012175  0.064824  0.009613   \n",
      "22  0.161413  0.155819 -0.073805 -0.292479  0.448053  0.215719 -0.072235   \n",
      "\n",
      "           7         8         9  \n",
      "0  -0.107860  0.025778 -0.042045  \n",
      "1  -0.122980  0.017623 -0.416483  \n",
      "2   0.644494  0.184314 -0.200865  \n",
      "3   0.078667  0.047827 -0.031578  \n",
      "4  -0.080887 -0.079199  0.019101  \n",
      "5  -0.098997  0.146944  0.037726  \n",
      "6  -0.280670 -0.047341  0.158307  \n",
      "7   0.188810  0.062707  0.704060  \n",
      "8  -0.024638  0.001304 -0.025307  \n",
      "9  -0.018351  0.036106  0.012649  \n",
      "10  0.028908 -0.063687 -0.064766  \n",
      "11  0.012916 -0.080131 -0.067985  \n",
      "12 -0.049387  0.037393  0.101852  \n",
      "13 -0.032249 -0.329771  0.043942  \n",
      "14  0.072034  0.066618  0.050239  \n",
      "15 -0.337122  0.738512 -0.037551  \n",
      "16 -0.154716 -0.142198  0.367530  \n",
      "17 -0.101543 -0.296407 -0.098565  \n",
      "18 -0.047376  0.019900 -0.143541  \n",
      "19  0.037332  0.045589  0.039475  \n",
      "20  0.053968 -0.321034 -0.135883  \n",
      "21  0.506633  0.116267  0.038755  \n",
      "22 -0.126381 -0.078544 -0.093144  \n",
      "(23, 10)\n"
     ]
    }
   ],
   "source": [
    "from sklearn.decomposition import TruncatedSVD\n",
    "lsa_model = TruncatedSVD(n_components=10, algorithm='randomized', n_iter=10, random_state=42)\n",
    "\n",
    "lsa_top=lsa_model.fit_transform(vect_text)\n",
    "print(pd.DataFrame(lsa_top))\n",
    "print(lsa_top.shape)  # (no_of_doc*no_of_topics)"
   ]
  },
  {
   "cell_type": "code",
   "execution_count": 71,
   "id": "b1e34d31",
   "metadata": {},
   "outputs": [
    {
     "name": "stdout",
     "output_type": "stream",
     "text": [
      "Document 0 :\n",
      "Topic  0  :  35.98329268849526\n",
      "Topic  1  :  55.12423971368692\n",
      "Topic  2  :  -11.730580692116135\n",
      "Topic  3  :  13.322674161529754\n",
      "Topic  4  :  -36.01618383810039\n",
      "Topic  5  :  -18.532984226924384\n",
      "Topic  6  :  -5.658985678667822\n",
      "Topic  7  :  -10.785956036213902\n",
      "Topic  8  :  2.5778411318688534\n",
      "Topic  9  :  -4.204508811267363\n"
     ]
    }
   ],
   "source": [
    "l=lsa_top[0]\n",
    "print(\"Document 0 :\")\n",
    "for i,topic in enumerate(l):\n",
    "  print(\"Topic \",i,\" : \",topic*100)"
   ]
  },
  {
   "cell_type": "code",
   "execution_count": 72,
   "id": "507a4e64",
   "metadata": {},
   "outputs": [
    {
     "name": "stdout",
     "output_type": "stream",
     "text": [
      "(10, 646)\n",
      "        0         1         2         3         4         5         6    \\\n",
      "0  0.002493  0.004057  0.004849  0.004849  0.002831  0.008494  0.007207   \n",
      "1  0.000833  0.002164  0.003508  0.003508  0.008063  0.024188  0.014985   \n",
      "2  0.006488  0.006512  0.018604  0.018604 -0.003524 -0.010571 -0.000494   \n",
      "3  0.001580  0.010322  0.024283  0.024283 -0.015163 -0.045489 -0.025402   \n",
      "4 -0.002159  0.006218  0.012003  0.012003  0.024049  0.072148  0.040595   \n",
      "5  0.010453  0.002620  0.003016  0.003016  0.009072  0.027216  0.025269   \n",
      "6  0.004611 -0.003418 -0.014572 -0.014572 -0.005912 -0.017735 -0.006373   \n",
      "7  0.025422 -0.007771 -0.008325 -0.008325 -0.004149 -0.012448  0.015131   \n",
      "8  0.007581 -0.007437  0.001251  0.001251 -0.004242 -0.012727 -0.000798   \n",
      "9 -0.008395  0.019537 -0.029857 -0.029857  0.001051  0.003152 -0.005561   \n",
      "\n",
      "        7         8         9    ...       636       637       638       639  \\\n",
      "0  0.002831  0.007781  0.002185  ...  0.004100  0.015085  0.004100  0.018799   \n",
      "1  0.008063 -0.000980  0.003295  ...  0.001467  0.022247  0.001467 -0.004504   \n",
      "2 -0.003524  0.032375 -0.001966  ...  0.004929  0.016893  0.004929  0.013763   \n",
      "3 -0.015163 -0.024273 -0.008759  ...  0.022471 -0.002890  0.022471  0.049638   \n",
      "4  0.024049 -0.003087  0.014210  ...  0.017216 -0.025072  0.017216  0.031020   \n",
      "5  0.009072 -0.024838  0.006906  ... -0.004608 -0.011807 -0.004608 -0.004334   \n",
      "6 -0.005912 -0.005580 -0.002519  ...  0.010445 -0.004480  0.010445  0.001845   \n",
      "7 -0.004149  0.002907 -0.004513  ...  0.015004  0.011174  0.015004  0.010260   \n",
      "8 -0.004242  0.003662 -0.002921  ...  0.005196  0.009398  0.005196  0.002197   \n",
      "9  0.001051  0.003306 -0.003521  ...  0.059210 -0.005418  0.059210  0.034022   \n",
      "\n",
      "        640       641       642       643       644       645  \n",
      "0  0.004057  0.011376  0.004057  0.045502  0.018965  0.001839  \n",
      "1  0.002164 -0.005478  0.002164 -0.021913  0.042408  0.006887  \n",
      "2  0.006512  0.007597  0.006512  0.030386  0.031114 -0.000781  \n",
      "3  0.010322 -0.005732  0.010322 -0.022927 -0.036155  0.004657  \n",
      "4  0.006218 -0.009515  0.006218 -0.038058  0.035906  0.000185  \n",
      "5  0.002620  0.014796  0.002620  0.059184 -0.072726 -0.005303  \n",
      "6 -0.003418  0.005974 -0.003418  0.023895  0.212430  0.012065  \n",
      "7 -0.007771 -0.001203 -0.007771 -0.004812  0.019518 -0.003024  \n",
      "8 -0.007437  0.002426 -0.007437  0.009704 -0.120829 -0.009196  \n",
      "9  0.019537  0.000886  0.019537  0.003546 -0.052028 -0.003112  \n",
      "\n",
      "[10 rows x 646 columns]\n"
     ]
    }
   ],
   "source": [
    "print(lsa_model.components_.shape) # (no_of_topics*no_of_words)\n",
    "print(pd.DataFrame(lsa_model.components_))"
   ]
  },
  {
   "cell_type": "markdown",
   "id": "093a0118",
   "metadata": {},
   "source": [
    "<h3>Hasil TruncatedSVD</h3>\n",
    "\n",
    "berikut adalah contoh 10 kata penting ditiap topik yang diproses"
   ]
  },
  {
   "cell_type": "code",
   "execution_count": 73,
   "id": "fe7bba87",
   "metadata": {},
   "outputs": [
    {
     "name": "stdout",
     "output_type": "stream",
     "text": [
      "Topic 0: \n",
      "pembelian variabel produk keputusan penelitian kualitas bangkalan harga konsumen berpengaruh \n",
      "\n",
      "Topic 1: \n",
      "ratio return equity perusahaan rasio current saham perputaran profitabilitas variable \n",
      "\n",
      "Topic 2: \n",
      "nasabah karyawan bank cabang value kompensasi kinerja bangkalan tabungan kamal \n",
      "\n",
      "Topic 3: \n",
      "kinerja karyawan kompensasi finansial kompetensi langsung motivasi kemampuan bersaing inovasi \n",
      "\n",
      "Topic 4: \n",
      "indeks saham portofolio kinerja karyawan stock optimal risiko kompensasi return \n",
      "\n",
      "Topic 5: \n",
      "kualitas hubungan kepercayaan komitmen dinamika finance patner indeks multi pelayanan \n",
      "\n",
      "Topic 6: \n",
      "biaya rasio keuangan zmijewski kondisi springate dikategorikan kesehatan perbankan model \n",
      "\n",
      "Topic 7: \n",
      "perputaran kerja produktivitas pelatihan faktor pegawai pengembangan dinas kelautan perikanan \n",
      "\n",
      "Topic 8: \n",
      "biaya inap rawat abcs penentuan tarif tradisional perputaran activity based \n",
      "\n",
      "Topic 9: \n",
      "bersaing inovasi keunggulan kompetensi lamongan optik reza dosen pemasaran jawa \n",
      "\n"
     ]
    },
    {
     "name": "stderr",
     "output_type": "stream",
     "text": [
      "c:\\Users\\ASUS\\AppData\\Local\\Programs\\Python\\Python310\\lib\\site-packages\\sklearn\\utils\\deprecation.py:87: FutureWarning: Function get_feature_names is deprecated; get_feature_names is deprecated in 1.0 and will be removed in 1.2. Please use get_feature_names_out instead.\n",
      "  warnings.warn(msg, category=FutureWarning)\n"
     ]
    }
   ],
   "source": [
    "# most important words for each topic\n",
    "vocab = vect.get_feature_names()\n",
    "\n",
    "for i, comp in enumerate(lsa_model.components_):\n",
    "    vocab_comp = zip(vocab, comp)\n",
    "    sorted_words = sorted(vocab_comp, key= lambda x:x[1], reverse=True)[:10]\n",
    "    print(\"Topic \"+str(i)+\": \")\n",
    "    for t in sorted_words:\n",
    "        print(t[0],end=\" \")\n",
    "    print(\"\\n\")"
   ]
  },
  {
   "cell_type": "markdown",
   "id": "7feae4e9",
   "metadata": {},
   "source": [
    "<p>List di atas adalah list kata tiap topik yang sering keluar disetiap dokumen</p>"
   ]
  },
  {
   "cell_type": "code",
   "execution_count": 74,
   "id": "6479f949",
   "metadata": {},
   "outputs": [],
   "source": [
    "from sklearn.decomposition import LatentDirichletAllocation\n",
    "lda_model=LatentDirichletAllocation(n_components=10,learning_method='online',random_state=42,max_iter=1) \n",
    "# n_components is the number of topics"
   ]
  },
  {
   "cell_type": "code",
   "execution_count": 75,
   "id": "162b0536",
   "metadata": {},
   "outputs": [],
   "source": [
    "lda_top=lda_model.fit_transform(vect_text)"
   ]
  },
  {
   "cell_type": "code",
   "execution_count": 76,
   "id": "0eb9bed1",
   "metadata": {},
   "outputs": [
    {
     "name": "stdout",
     "output_type": "stream",
     "text": [
      "(23, 10)\n",
      "           0         1         2         3         4         5         6  \\\n",
      "0   0.015611  0.015612  0.859497  0.015612  0.015612  0.015611  0.015612   \n",
      "1   0.021243  0.021243  0.021242  0.808818  0.021242  0.021242  0.021242   \n",
      "2   0.012286  0.012286  0.012286  0.012286  0.012286  0.889424  0.012286   \n",
      "3   0.017378  0.017378  0.017378  0.017379  0.017378  0.017378  0.017378   \n",
      "4   0.888152  0.012428  0.012427  0.012428  0.012428  0.012428  0.012428   \n",
      "5   0.015000  0.015000  0.015000  0.865002  0.015000  0.015000  0.015000   \n",
      "6   0.015486  0.015486  0.015486  0.015486  0.015486  0.015486  0.860626   \n",
      "7   0.015463  0.015463  0.015463  0.015463  0.015463  0.015466  0.015463   \n",
      "8   0.015264  0.015264  0.015263  0.015264  0.015264  0.015264  0.015264   \n",
      "9   0.014198  0.014199  0.014199  0.014199  0.872213  0.014199  0.014199   \n",
      "10  0.015601  0.015601  0.015601  0.015601  0.015601  0.015601  0.015601   \n",
      "11  0.014662  0.014662  0.014662  0.868039  0.014662  0.014662  0.014662   \n",
      "12  0.016260  0.016260  0.016260  0.853658  0.016260  0.016260  0.016260   \n",
      "13  0.017601  0.017602  0.017601  0.017602  0.017602  0.017601  0.017602   \n",
      "14  0.014100  0.014100  0.014100  0.873099  0.014100  0.014100  0.014100   \n",
      "15  0.014956  0.014956  0.014956  0.865393  0.014956  0.014956  0.014956   \n",
      "16  0.016525  0.016525  0.016525  0.016525  0.016525  0.851274  0.016525   \n",
      "17  0.016005  0.016005  0.016005  0.016005  0.016005  0.016005  0.016005   \n",
      "18  0.016682  0.016682  0.016682  0.016683  0.016682  0.016682  0.016682   \n",
      "19  0.017850  0.017850  0.017850  0.017850  0.017850  0.839350  0.017850   \n",
      "20  0.015948  0.015948  0.015948  0.015948  0.015948  0.015948  0.015948   \n",
      "21  0.016522  0.016522  0.851301  0.016522  0.016522  0.016522  0.016522   \n",
      "22  0.017453  0.017453  0.017453  0.017453  0.017453  0.017453  0.842925   \n",
      "\n",
      "           7         8         9  \n",
      "0   0.015611  0.015612  0.015611  \n",
      "1   0.021242  0.021243  0.021242  \n",
      "2   0.012286  0.012286  0.012287  \n",
      "3   0.843596  0.017378  0.017378  \n",
      "4   0.012428  0.012428  0.012427  \n",
      "5   0.015000  0.015000  0.015000  \n",
      "6   0.015486  0.015486  0.015486  \n",
      "7   0.860829  0.015463  0.015463  \n",
      "8   0.015264  0.015264  0.862627  \n",
      "9   0.014198  0.014199  0.014199  \n",
      "10  0.015602  0.859588  0.015601  \n",
      "11  0.014662  0.014662  0.014663  \n",
      "12  0.016261  0.016260  0.016260  \n",
      "13  0.017602  0.841586  0.017602  \n",
      "14  0.014100  0.014100  0.014100  \n",
      "15  0.014956  0.014956  0.014957  \n",
      "16  0.016525  0.016525  0.016525  \n",
      "17  0.855954  0.016005  0.016005  \n",
      "18  0.016682  0.849864  0.016682  \n",
      "19  0.017850  0.017850  0.017850  \n",
      "20  0.015948  0.856469  0.015948  \n",
      "21  0.016522  0.016522  0.016522  \n",
      "22  0.017453  0.017453  0.017453  \n"
     ]
    }
   ],
   "source": [
    "print(lda_top.shape)  # (no_of_doc,no_of_topics)\n",
    "print(pd.DataFrame(lda_top))"
   ]
  },
  {
   "cell_type": "code",
   "execution_count": 77,
   "id": "84e59ef9",
   "metadata": {},
   "outputs": [
    {
     "name": "stdout",
     "output_type": "stream",
     "text": [
      "1.0\n"
     ]
    }
   ],
   "source": [
    "sum=0\n",
    "for i in lda_top[0]:\n",
    "  sum=sum+i\n",
    "print(sum)"
   ]
  },
  {
   "cell_type": "code",
   "execution_count": 78,
   "id": "64e8423a",
   "metadata": {},
   "outputs": [
    {
     "name": "stdout",
     "output_type": "stream",
     "text": [
      "Document 0: \n",
      "Topic  0 :  1.5611413319595695 %\n",
      "Topic  1 :  1.5611501068443523 %\n",
      "Topic  2 :  85.9496592584182 %\n",
      "Topic  3 :  1.5611818255804086 %\n",
      "Topic  4 :  1.5611623071504734 %\n",
      "Topic  5 :  1.5611321573660746 %\n",
      "Topic  6 :  1.5611550928195912 %\n",
      "Topic  7 :  1.561123006535992 %\n",
      "Topic  8 :  1.5611544817861926 %\n",
      "Topic  9 :  1.5611404315391626 %\n"
     ]
    }
   ],
   "source": [
    "# composition of doc 0 for eg\n",
    "print(\"Document 0: \")\n",
    "for i,topic in enumerate(lda_top[0]):\n",
    "  print(\"Topic \",i,\": \",topic*100,\"%\")"
   ]
  },
  {
   "cell_type": "code",
   "execution_count": 79,
   "id": "fd92c9fa",
   "metadata": {},
   "outputs": [
    {
     "name": "stdout",
     "output_type": "stream",
     "text": [
      "        0         1         2         3         4         5         6    \\\n",
      "0  0.870311  0.818130  0.810440  0.810442  0.974150  0.922431  0.808980   \n",
      "1  0.902026  0.870224  1.040541  0.824635  0.922427  0.929562  0.969304   \n",
      "2  0.744187  0.744294  0.885731  0.739556  0.697090  0.775522  0.792177   \n",
      "3  0.840807  0.965264  0.833132  0.778531  0.791136  0.731600  0.613943   \n",
      "4  0.784178  0.898724  0.846433  0.751961  0.814114  0.930096  0.792551   \n",
      "5  0.802068  0.986869  0.793472  0.734610  0.840387  0.825049  0.921842   \n",
      "6  0.724756  0.758491  0.805123  0.704218  0.771543  0.814054  0.715245   \n",
      "7  0.822521  1.026452  0.812986  0.814517  0.909192  0.895080  0.728772   \n",
      "8  0.917810  0.688679  0.849550  0.903447  0.717084  0.756547  0.931859   \n",
      "9  0.749599  0.873798  0.768046  0.811279  0.841005  0.876927  0.815434   \n",
      "\n",
      "        7         8         9    ...       636       637       638       639  \\\n",
      "0  0.883897  0.849111  0.683661  ...  0.890262  0.822769  0.906010  0.857767   \n",
      "1  0.739740  0.824108  0.856294  ...  0.635698  0.845567  0.933847  0.745409   \n",
      "2  0.867406  0.781749  0.950373  ...  0.864377  0.876430  0.849987  0.947006   \n",
      "3  1.007693  0.830834  0.737841  ...  0.900514  0.741092  0.953025  0.830455   \n",
      "4  0.744746  0.874435  0.665451  ...  0.834054  0.781254  0.910970  0.853810   \n",
      "5  0.813939  0.892098  0.949451  ...  0.831120  0.980739  0.780140  0.904475   \n",
      "6  0.984933  0.914186  1.150954  ...  1.014013  0.911326  0.690895  0.754534   \n",
      "7  0.836134  0.795386  0.797008  ...  0.837161  0.967216  0.895612  0.869849   \n",
      "8  0.873350  0.931275  0.851349  ...  0.894405  0.811941  0.840818  0.733643   \n",
      "9  0.817457  1.035404  0.908908  ...  0.791306  0.776588  0.875095  0.863915   \n",
      "\n",
      "        640       641       642       643       644       645  \n",
      "0  1.010979  0.818023  0.922659  0.747763  0.779703  0.994867  \n",
      "1  0.693291  0.855539  0.857865  0.790383  0.775667  0.832081  \n",
      "2  0.867781  0.943605  1.028180  0.903659  0.729131  0.853306  \n",
      "3  0.781835  0.805253  0.769967  0.811449  0.737443  0.986300  \n",
      "4  0.836391  0.760407  0.900881  0.911497  0.866438  0.808236  \n",
      "5  1.006176  0.850332  0.931022  0.765605  0.862977  0.884649  \n",
      "6  0.740070  0.834179  0.796079  0.957481  0.803073  1.001440  \n",
      "7  0.960659  0.949637  0.972084  0.791260  0.741653  0.704267  \n",
      "8  0.887001  1.056670  0.800326  0.839292  0.917991  0.732542  \n",
      "9  0.990173  0.839470  0.929384  0.918590  0.776237  0.721261  \n",
      "\n",
      "[10 rows x 646 columns]\n",
      "(10, 646)\n"
     ]
    }
   ],
   "source": [
    "print(pd.DataFrame(lda_model.components_))\n",
    "print(lda_model.components_.shape)  # (no_of_topics*no_of_words)"
   ]
  },
  {
   "cell_type": "code",
   "execution_count": 80,
   "id": "ef85dd38",
   "metadata": {},
   "outputs": [
    {
     "name": "stdout",
     "output_type": "stream",
     "text": [
      "Topic 0: \n",
      "decision menyesuaikan random analitik deviden manakah optimal icmd risk hj \n",
      "\n",
      "Topic 1: \n",
      "expected koefisiensi hanjaya berpengaruh simple 001 mendukung ditetapkan dilaksanakan adaro \n",
      "\n",
      "Topic 2: \n",
      "manakah data diterapkannya purpossive dilaksanakan business wispandono turnover statistik timur \n",
      "\n",
      "Topic 3: \n",
      "dinilai kompensasi aktiva dianalisis variabel earning diolah 2007 bauran perbedaan \n",
      "\n",
      "Topic 4: \n",
      "instansi dividen menerapkan tuntutan conclusion jupiter septy juli indonesian asumsi \n",
      "\n",
      "Topic 5: \n",
      "value pelatihan loyalitas meluas 88 empati klasik v18 kebanyakan determinasi \n",
      "\n",
      "Topic 6: \n",
      "19 share optik dana pokok 846 hanjaya susu jalur probality \n",
      "\n",
      "Topic 7: \n",
      "anugrahini promosi dinas mandala 549 dividen bentoel jabatan delisting philippines \n",
      "\n",
      "Topic 8: \n",
      "540 karyawan window internasional patner emotional memakai gudang serviscape abstrak \n",
      "\n",
      "Topic 9: \n",
      "costing 881142 timur 16 buyung pengembnagan harga merek rawat pembelian \n",
      "\n"
     ]
    },
    {
     "name": "stderr",
     "output_type": "stream",
     "text": [
      "c:\\Users\\ASUS\\AppData\\Local\\Programs\\Python\\Python310\\lib\\site-packages\\sklearn\\utils\\deprecation.py:87: FutureWarning: Function get_feature_names is deprecated; get_feature_names is deprecated in 1.0 and will be removed in 1.2. Please use get_feature_names_out instead.\n",
      "  warnings.warn(msg, category=FutureWarning)\n"
     ]
    }
   ],
   "source": [
    "# most important words for each topic\n",
    "vocab = vect.get_feature_names()\n",
    "\n",
    "for i, comp in enumerate(lda_model.components_):\n",
    "    vocab_comp = zip(vocab, comp)\n",
    "    sorted_words = sorted(vocab_comp, key= lambda x:x[1], reverse=True)[:10]\n",
    "    print(\"Topic \"+str(i)+\": \")\n",
    "    for t in sorted_words:\n",
    "        print(t[0],end=\" \")\n",
    "    print(\"\\n\")"
   ]
  },
  {
   "cell_type": "code",
   "execution_count": null,
   "id": "4046d73b",
   "metadata": {},
   "outputs": [],
   "source": []
  }
 ],
 "metadata": {
  "kernelspec": {
   "display_name": "Python 3.10.5 64-bit",
   "language": "python",
   "name": "python3"
  },
  "language_info": {
   "codemirror_mode": {
    "name": "ipython",
    "version": 3
   },
   "file_extension": ".py",
   "mimetype": "text/x-python",
   "name": "python",
   "nbconvert_exporter": "python",
   "pygments_lexer": "ipython3",
   "version": "3.10.5"
  },
  "vscode": {
   "interpreter": {
    "hash": "27f6fea6f47ae512550f0b8facdbd035a93e1dd89633f7bf2dd00a2502c71d0d"
   }
  }
 },
 "nbformat": 4,
 "nbformat_minor": 5
}
